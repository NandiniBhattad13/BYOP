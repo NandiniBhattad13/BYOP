{
  "metadata": {
    "kernelspec": {
      "language": "python",
      "display_name": "Python 3",
      "name": "python3"
    },
    "language_info": {
      "name": "python",
      "version": "3.7.12",
      "mimetype": "text/x-python",
      "codemirror_mode": {
        "name": "ipython",
        "version": 3
      },
      "pygments_lexer": "ipython3",
      "nbconvert_exporter": "python",
      "file_extension": ".py"
    },
    "kaggle": {
      "accelerator": "gpu",
      "dataSources": [
        {
          "sourceId": 530389,
          "sourceType": "datasetVersion",
          "datasetId": 252277
        }
      ],
      "dockerImageVersionId": 30153,
      "isInternetEnabled": true,
      "language": "python",
      "sourceType": "notebook",
      "isGpuEnabled": true
    },
    "colab": {
      "provenance": [],
      "toc_visible": true
    }
  },
  "nbformat_minor": 0,
  "nbformat": 4,
  "cells": [
    {
      "cell_type": "markdown",
      "source": [
        "in this notebook we are going to classify some documents into 5 categs (sport, tech, entertainement , politics and Busness )\n",
        "for this NLP task which is docs classification we are going to use BERT"
      ],
      "metadata": {
        "id": "MGXIzFLjc26b"
      }
    },
    {
      "cell_type": "code",
      "source": [
        "import pandas as pd\n",
        "import torch\n",
        "from transformers import BertTokenizer\n",
        "import numpy as np\n",
        "from transformers import BertModel\n",
        "from tqdm import tqdm\n"
      ],
      "metadata": {
        "execution": {
          "iopub.status.busy": "2024-01-07T10:01:01.440827Z",
          "iopub.execute_input": "2024-01-07T10:01:01.441091Z",
          "iopub.status.idle": "2024-01-07T10:01:09.146744Z",
          "shell.execute_reply.started": "2024-01-07T10:01:01.441009Z",
          "shell.execute_reply": "2024-01-07T10:01:09.145906Z"
        },
        "trusted": true,
        "id": "zuqpeL3fc26c"
      },
      "execution_count": null,
      "outputs": []
    },
    {
      "cell_type": "markdown",
      "source": [
        "## Intro\n",
        "in this notebook we are going to classify some documents into 5 categs (sport, tech, entertainement , politics and Busness )\n",
        "for this NLP task which is docs classification we are going to use BERT"
      ],
      "metadata": {
        "execution": {
          "iopub.status.busy": "2021-12-05T19:51:47.057184Z",
          "iopub.execute_input": "2021-12-05T19:51:47.057924Z",
          "iopub.status.idle": "2021-12-05T19:51:47.070542Z",
          "shell.execute_reply.started": "2021-12-05T19:51:47.057888Z",
          "shell.execute_reply": "2021-12-05T19:51:47.069433Z"
        },
        "id": "6CORFcnHc26e"
      }
    },
    {
      "cell_type": "code",
      "source": [
        "import pandas as pd\n",
        "import torch\n",
        "from transformers import BertTokenizer\n",
        "import numpy as np\n",
        "from transformers import BertModel\n",
        "from tqdm import tqdm"
      ],
      "metadata": {
        "execution": {
          "iopub.status.busy": "2024-01-07T10:01:09.148620Z",
          "iopub.execute_input": "2024-01-07T10:01:09.148963Z",
          "iopub.status.idle": "2024-01-07T10:01:09.154892Z",
          "shell.execute_reply.started": "2024-01-07T10:01:09.148924Z",
          "shell.execute_reply": "2024-01-07T10:01:09.154107Z"
        },
        "trusted": true,
        "id": "1S9aaGWTc26e"
      },
      "execution_count": null,
      "outputs": []
    },
    {
      "cell_type": "markdown",
      "source": [
        "## Loading  data"
      ],
      "metadata": {
        "id": "hxmrvK4Bc26e"
      }
    },
    {
      "cell_type": "code",
      "source": [
        "source_url = \"/kaggle/input/bbc-dataset/bbc-text.csv\"\n",
        "df = pd.read_csv(source_url)\n",
        "df.groupby([\"category\"]).size()"
      ],
      "metadata": {
        "execution": {
          "iopub.status.busy": "2024-01-07T10:01:09.156135Z",
          "iopub.execute_input": "2024-01-07T10:01:09.156393Z",
          "iopub.status.idle": "2024-01-07T10:01:09.306957Z",
          "shell.execute_reply.started": "2024-01-07T10:01:09.156362Z",
          "shell.execute_reply": "2024-01-07T10:01:09.306076Z"
        },
        "trusted": true,
        "id": "f98LVMxSc26f",
        "outputId": "dedfe3fb-7703-4f46-9f9d-24ef0240b23e"
      },
      "execution_count": null,
      "outputs": [
        {
          "execution_count": 3,
          "output_type": "execute_result",
          "data": {
            "text/plain": "category\nbusiness         510\nentertainment    386\npolitics         417\nsport            511\ntech             401\ndtype: int64"
          },
          "metadata": {}
        }
      ]
    },
    {
      "cell_type": "markdown",
      "source": [
        "## Data Preprocessing"
      ],
      "metadata": {
        "id": "rqBmO6zJc26f"
      }
    },
    {
      "cell_type": "code",
      "source": [
        "tokenizer = BertTokenizer.from_pretrained(\"bert-base-cased\")"
      ],
      "metadata": {
        "_kg_hide-input": true,
        "execution": {
          "iopub.status.busy": "2024-01-07T10:01:09.308886Z",
          "iopub.execute_input": "2024-01-07T10:01:09.309132Z",
          "iopub.status.idle": "2024-01-07T10:01:10.772349Z",
          "shell.execute_reply.started": "2024-01-07T10:01:09.309104Z",
          "shell.execute_reply": "2024-01-07T10:01:10.771754Z"
        },
        "trusted": true,
        "id": "F18GEa7jc26g",
        "outputId": "fc131d66-8c61-42c5-d3c4-60be84ee10dc",
        "colab": {
          "referenced_widgets": [
            "0cb811ef72a74fd6baeb01d9dd87e4e7",
            "564a7c248df34feabcea48d7d608a43d",
            "35c120f0b67c44dd92fc31c53d8ded3f",
            "1ae2f5198a58432cb104824ba919d917"
          ]
        }
      },
      "execution_count": null,
      "outputs": [
        {
          "output_type": "display_data",
          "data": {
            "text/plain": "Downloading:   0%|          | 0.00/208k [00:00<?, ?B/s]",
            "application/vnd.jupyter.widget-view+json": {
              "version_major": 2,
              "version_minor": 0,
              "model_id": "0cb811ef72a74fd6baeb01d9dd87e4e7"
            }
          },
          "metadata": {}
        },
        {
          "output_type": "display_data",
          "data": {
            "text/plain": "Downloading:   0%|          | 0.00/29.0 [00:00<?, ?B/s]",
            "application/vnd.jupyter.widget-view+json": {
              "version_major": 2,
              "version_minor": 0,
              "model_id": "564a7c248df34feabcea48d7d608a43d"
            }
          },
          "metadata": {}
        },
        {
          "output_type": "display_data",
          "data": {
            "text/plain": "Downloading:   0%|          | 0.00/426k [00:00<?, ?B/s]",
            "application/vnd.jupyter.widget-view+json": {
              "version_major": 2,
              "version_minor": 0,
              "model_id": "35c120f0b67c44dd92fc31c53d8ded3f"
            }
          },
          "metadata": {}
        },
        {
          "output_type": "display_data",
          "data": {
            "text/plain": "Downloading:   0%|          | 0.00/570 [00:00<?, ?B/s]",
            "application/vnd.jupyter.widget-view+json": {
              "version_major": 2,
              "version_minor": 0,
              "model_id": "1ae2f5198a58432cb104824ba919d917"
            }
          },
          "metadata": {}
        }
      ]
    },
    {
      "cell_type": "markdown",
      "source": [
        "we are going to tesst the bert tokenizer on an exemple to have a good idea on how it works"
      ],
      "metadata": {
        "id": "Jf3-AgAjc26g"
      }
    },
    {
      "cell_type": "code",
      "source": [
        "sample = 'Hey my name is BERT'\n",
        "# truncation : if it is True then we allow bert to truncated every sequence it's length is higher then max_length\n",
        "# return_tensors : the type of tensors that will be returned (as we are using pytorch then we set \"pt\")\n",
        "bert_input  = tokenizer(sample,padding=\"max_length\",max_length=15,truncation=True,return_tensors=\"pt\")\n"
      ],
      "metadata": {
        "execution": {
          "iopub.status.busy": "2024-01-07T10:01:10.773425Z",
          "iopub.execute_input": "2024-01-07T10:01:10.773687Z",
          "iopub.status.idle": "2024-01-07T10:01:10.785193Z",
          "shell.execute_reply.started": "2024-01-07T10:01:10.773630Z",
          "shell.execute_reply": "2024-01-07T10:01:10.784505Z"
        },
        "trusted": true,
        "id": "QUJsOeqmc26g"
      },
      "execution_count": null,
      "outputs": []
    },
    {
      "cell_type": "code",
      "source": [
        "print(bert_input[\"input_ids\"])\n",
        "# input_ids are the id representation of each token\n",
        "# we can decode these inputs to get the original sequence\n",
        "print(tokenizer.decode(bert_input[\"input_ids\"][0] ))\n",
        "# the code 102 is for the [SEP] token and the 0 is for [PAD] token"
      ],
      "metadata": {
        "execution": {
          "iopub.status.busy": "2024-01-07T10:01:10.786221Z",
          "iopub.execute_input": "2024-01-07T10:01:10.786417Z",
          "iopub.status.idle": "2024-01-07T10:01:10.809767Z",
          "shell.execute_reply.started": "2024-01-07T10:01:10.786392Z",
          "shell.execute_reply": "2024-01-07T10:01:10.809061Z"
        },
        "trusted": true,
        "id": "ysZt9Kauc26h",
        "outputId": "5ba6791a-83b6-4c65-b4c9-1bba3e5645dc"
      },
      "execution_count": null,
      "outputs": [
        {
          "name": "stdout",
          "text": "tensor([[ 101, 4403, 1139, 1271, 1110,  139, 9637, 1942,  102,    0,    0,    0,\n            0,    0,    0]])\n[CLS] Hey my name is BERT [SEP] [PAD] [PAD] [PAD] [PAD] [PAD] [PAD]\n",
          "output_type": "stream"
        }
      ]
    },
    {
      "cell_type": "code",
      "source": [
        "print(bert_input[\"token_type_ids\"])\n",
        "# the token_type_ids identified to which sequence a token belongs, when having just one sequence so it's always 0"
      ],
      "metadata": {
        "execution": {
          "iopub.status.busy": "2024-01-07T10:01:10.810862Z",
          "iopub.execute_input": "2024-01-07T10:01:10.811097Z",
          "iopub.status.idle": "2024-01-07T10:01:10.815806Z",
          "shell.execute_reply.started": "2024-01-07T10:01:10.811059Z",
          "shell.execute_reply": "2024-01-07T10:01:10.815070Z"
        },
        "trusted": true,
        "id": "cVBNEK62c26h",
        "outputId": "0b0b2e32-8f37-4b01-8fb0-0f8b0081bde4"
      },
      "execution_count": null,
      "outputs": [
        {
          "name": "stdout",
          "text": "tensor([[0, 0, 0, 0, 0, 0, 0, 0, 0, 0, 0, 0, 0, 0, 0]])\n",
          "output_type": "stream"
        }
      ]
    },
    {
      "cell_type": "code",
      "source": [
        "print(bert_input[\"attention_mask\"])\n",
        "# the attention_mask identified whether the token is a real word or just a token padding\n",
        "# it's 1 for the real words, the CLS and the SEP tokens, and for the pad token is 0\n"
      ],
      "metadata": {
        "execution": {
          "iopub.status.busy": "2024-01-07T10:01:10.816948Z",
          "iopub.execute_input": "2024-01-07T10:01:10.817255Z",
          "iopub.status.idle": "2024-01-07T10:01:10.825358Z",
          "shell.execute_reply.started": "2024-01-07T10:01:10.817200Z",
          "shell.execute_reply": "2024-01-07T10:01:10.824635Z"
        },
        "trusted": true,
        "id": "Y2wYulKQc26h",
        "outputId": "7be7f419-253f-4d12-e53a-0eed0be8f5c9"
      },
      "execution_count": null,
      "outputs": [
        {
          "name": "stdout",
          "text": "tensor([[1, 1, 1, 1, 1, 1, 1, 1, 1, 0, 0, 0, 0, 0, 0]])\n",
          "output_type": "stream"
        }
      ]
    },
    {
      "cell_type": "markdown",
      "source": [
        "in this example, we are using the **bert-base-cased** pre-trained model and that's because our dataset is in english, if we are dealing with a dataset which is multilingual the we need to use **bert-base-multilingual-cased**"
      ],
      "metadata": {
        "id": "hUKez3bbc26i"
      }
    },
    {
      "cell_type": "markdown",
      "source": [
        "### Dataset Class\n",
        "\n",
        "Now that we know which are the ouputs of our bert tokenizer we are going to build a Dataset Class for our news Dataset"
      ],
      "metadata": {
        "id": "ddGbQxs4c26i"
      }
    },
    {
      "cell_type": "code",
      "source": [
        "tokenizer= BertTokenizer.from_pretrained(\"bert-base-cased\")\n",
        "labels = {\n",
        "    'business':0,\n",
        "    'entertainment':1,\n",
        "    'sport':2,\n",
        "    'tech':3,\n",
        "    'politics':4\n",
        "}\n",
        "class Dataset(torch.utils.data.Dataset):\n",
        "    def __init__(self,df):\n",
        "        #extract our labels from the df\n",
        "        self.labels = [labels[label] for label in df[\"category\"]]\n",
        "        #tokenize our texts to the format that BERT expects to get as input\n",
        "        self.texts = [tokenizer(text, padding='max_length', max_length=512, truncation=True,return_tensors=\"pt\") for text in df[\"text\"]]\n",
        "    def classes(self):\n",
        "        return self.labels\n",
        "\n",
        "    def __len__(self):\n",
        "        return len(self.labels)\n",
        "\n",
        "    #fetch a batch of labels\n",
        "    def get_batch_labels(self,indx):\n",
        "        return np.array(self.labels[indx])\n",
        "    # fetch a batch of texts\n",
        "    def get_batch_texts(self,indx):\n",
        "        return self.texts[indx]\n",
        "\n",
        "    #get an item with the texts and the label\n",
        "    def __getitem__(self,indx):\n",
        "        batch_texts = self.get_batch_texts(indx)\n",
        "        batch_y = self.get_batch_labels(indx)\n",
        "\n",
        "\n",
        "        return batch_texts, batch_y\n",
        ""
      ],
      "metadata": {
        "execution": {
          "iopub.status.busy": "2024-01-07T10:01:10.826442Z",
          "iopub.execute_input": "2024-01-07T10:01:10.826698Z",
          "iopub.status.idle": "2024-01-07T10:01:11.928816Z",
          "shell.execute_reply.started": "2024-01-07T10:01:10.826669Z",
          "shell.execute_reply": "2024-01-07T10:01:11.928090Z"
        },
        "trusted": true,
        "id": "zSp__NzHc26i"
      },
      "execution_count": null,
      "outputs": []
    },
    {
      "cell_type": "markdown",
      "source": [
        "Now after creating the Dataset Class let's split our dataset into train,validation and test sets\n",
        "\n",
        "* training set contains : 80%\n",
        "* test and validation contains : 10% each"
      ],
      "metadata": {
        "id": "2YWzj0hFc26i"
      }
    },
    {
      "cell_type": "code",
      "source": [
        "df_train, df_valid,df_test = np.split(df.sample(frac=1,random_state=42),[int(.8*len(df)), int(.9*len(df))])\n",
        "\n"
      ],
      "metadata": {
        "execution": {
          "iopub.status.busy": "2024-01-07T10:01:11.930125Z",
          "iopub.execute_input": "2024-01-07T10:01:11.930393Z",
          "iopub.status.idle": "2024-01-07T10:01:11.938789Z",
          "shell.execute_reply.started": "2024-01-07T10:01:11.930360Z",
          "shell.execute_reply": "2024-01-07T10:01:11.937929Z"
        },
        "trusted": true,
        "id": "35fuPWeMc26j"
      },
      "execution_count": null,
      "outputs": []
    },
    {
      "cell_type": "markdown",
      "source": [
        "## Building the model\n",
        "Now after preparing our data to the Learning process, let's create our model using the pre-trained BERT base model which contains 12 layers of Transformers encoder."
      ],
      "metadata": {
        "id": "-kU1wzRTc26j"
      }
    },
    {
      "cell_type": "code",
      "source": [
        "class BertClassifier(torch.nn.Module):\n",
        "    def __init__(self,dropout=0.5):\n",
        "        super(BertClassifier,self).__init__()\n",
        "\n",
        "        self.bert=BertModel.from_pretrained(\"bert-base-cased\")\n",
        "        self.dropout = torch.nn.Dropout(dropout)\n",
        "        # bert output a vector of size 768\n",
        "        self.lin = torch.nn.Linear(768,5)\n",
        "        self.relu = torch.nn.ReLU()\n",
        "    def forward(self,input_id,mask):\n",
        "        # as output, the bert model give us first the embedding vector of all the tokens of the sequence\n",
        "        # second we get the embedding vector of the CLS token.\n",
        "        # fot a classification task it's enough to use this embedding for our classifier\n",
        "        _,pooled_output = self.bert(input_ids= input_id,attention_mask = mask,return_dict = False)\n",
        "        dropout_output = self.dropout(pooled_output)\n",
        "        linear_output  = self.lin(dropout_output)\n",
        "        final_layer = self.relu(linear_output)\n",
        "\n",
        "        return final_layer\n",
        ""
      ],
      "metadata": {
        "execution": {
          "iopub.status.busy": "2024-01-07T10:01:11.941438Z",
          "iopub.execute_input": "2024-01-07T10:01:11.941731Z",
          "iopub.status.idle": "2024-01-07T10:01:11.951175Z",
          "shell.execute_reply.started": "2024-01-07T10:01:11.941699Z",
          "shell.execute_reply": "2024-01-07T10:01:11.950456Z"
        },
        "trusted": true,
        "id": "wjn4ngAAc26j"
      },
      "execution_count": null,
      "outputs": []
    },
    {
      "cell_type": "markdown",
      "source": [
        "## Training  "
      ],
      "metadata": {
        "id": "eej_GHpWc26k"
      }
    },
    {
      "cell_type": "code",
      "source": [
        "# we are creating a standard pytorch training loop\n",
        "\n",
        "def train(model, train_data, val_data, learning_rate, epochs=5):\n",
        "    #creating a custom Dataset objects using the training and validation data\n",
        "    train, val = Dataset(train_data), Dataset(val_data)\n",
        "    #creating dataloaders\n",
        "    train_dataloader = torch.utils.data.DataLoader(train, batch_size=2, shuffle=True)\n",
        "    val_dataloader = torch.utils.data.DataLoader(val, batch_size=2)\n",
        "\n",
        "    use_cuda = torch.cuda.is_available()\n",
        "    device = torch.device(\"cuda\" if use_cuda else \"cpu\")\n",
        "\n",
        "    criterion = torch.nn.CrossEntropyLoss()\n",
        "    optimizer = torch.optim.Adam(model.parameters(), lr= learning_rate)\n",
        "\n",
        "    if use_cuda:\n",
        "            model = model.cuda()\n",
        "            criterion = criterion.cuda()\n",
        "\n",
        "    for epoch_num in range(epochs):\n",
        "\n",
        "            total_acc_train = 0\n",
        "            total_loss_train = 0\n",
        "\n",
        "            for train_input, train_label in tqdm(train_dataloader):\n",
        "                #print(f\"the train input : {train_input}\")\n",
        "                #print(f\"train label : {train_label}\")\n",
        "\n",
        "                train_label = train_label.to(device)\n",
        "                mask = train_input['attention_mask'].to(device)\n",
        "                input_id = train_input['input_ids'].squeeze(1).to(device)\n",
        "    #             print(input_id.shape)\n",
        "\n",
        "                # get the predictions\n",
        "                output = model(input_id, mask)\n",
        "\n",
        "                #the output is a vector of 5 values (categs)\n",
        "    #             print(output)\n",
        "    #             print(\"the output shape is\" ,  output.shape)\n",
        "    #             print(train_label)\n",
        "\n",
        "                batch_loss = criterion(output, train_label)\n",
        "                total_loss_train += batch_loss.item()\n",
        "\n",
        "                acc = (output.argmax(dim=1) == train_label).sum().item()\n",
        "                total_acc_train += acc\n",
        "                # updating the Gradient Descent and Backpropagation operation\n",
        "                model.zero_grad()\n",
        "                batch_loss.backward()\n",
        "                optimizer.step()\n",
        "            # now we evaluate on the validation data\n",
        "            total_acc_val = 0\n",
        "            total_loss_val = 0\n",
        "\n",
        "            with torch.no_grad():\n",
        "\n",
        "                for val_input, val_label in val_dataloader:\n",
        "\n",
        "                    val_label = val_label.to(device)\n",
        "                    mask = val_input['attention_mask'].to(device)\n",
        "                    input_id = val_input['input_ids'].squeeze(1).to(device)\n",
        "\n",
        "                    output = model(input_id, mask)\n",
        "\n",
        "                    batch_loss = criterion(output, val_label)\n",
        "                    total_loss_val += batch_loss.item()\n",
        "\n",
        "                    acc = (output.argmax(dim=1) == val_label).sum().item()\n",
        "                    total_acc_val += acc\n",
        "\n",
        "            print(\n",
        "                f'Epochs: {epoch_num + 1} | Train Loss: {total_loss_train / len(train_data): .3f} \\\n",
        "                | Train Accuracy: {total_acc_train / len(train_data): .3f} \\\n",
        "                | Val Loss: {total_loss_val / len(val_data): .3f} \\\n",
        "                | Val Accuracy: {total_acc_val / len(val_data): .3f}')\n",
        "\n"
      ],
      "metadata": {
        "execution": {
          "iopub.status.busy": "2024-01-07T10:01:11.952452Z",
          "iopub.execute_input": "2024-01-07T10:01:11.952722Z",
          "iopub.status.idle": "2024-01-07T10:01:11.971318Z",
          "shell.execute_reply.started": "2024-01-07T10:01:11.952688Z",
          "shell.execute_reply": "2024-01-07T10:01:11.970355Z"
        },
        "trusted": true,
        "id": "9gFwQ5nlc26k"
      },
      "execution_count": null,
      "outputs": []
    },
    {
      "cell_type": "code",
      "source": [
        "\n",
        "EPOCHS = 5\n",
        "model = BertClassifier()\n",
        "learning_rate = 1e-6\n",
        "train(model, df_train, df_valid, learning_rate, EPOCHS)"
      ],
      "metadata": {
        "scrolled": true,
        "execution": {
          "iopub.status.busy": "2024-01-07T10:01:11.972776Z",
          "iopub.execute_input": "2024-01-07T10:01:11.973688Z",
          "iopub.status.idle": "2024-01-07T10:12:32.875539Z",
          "shell.execute_reply.started": "2024-01-07T10:01:11.973596Z",
          "shell.execute_reply": "2024-01-07T10:12:32.874697Z"
        },
        "trusted": true,
        "id": "V1QUQ3JXc26l",
        "outputId": "bc3b3e1e-9188-4e4c-b72f-9114df798a2e",
        "colab": {
          "referenced_widgets": [
            "a3a02991c8a94568a85d138deab5e1fc"
          ]
        }
      },
      "execution_count": null,
      "outputs": [
        {
          "output_type": "display_data",
          "data": {
            "text/plain": "Downloading:   0%|          | 0.00/416M [00:00<?, ?B/s]",
            "application/vnd.jupyter.widget-view+json": {
              "version_major": 2,
              "version_minor": 0,
              "model_id": "a3a02991c8a94568a85d138deab5e1fc"
            }
          },
          "metadata": {}
        },
        {
          "name": "stderr",
          "text": "Some weights of the model checkpoint at bert-base-cased were not used when initializing BertModel: ['cls.seq_relationship.bias', 'cls.predictions.transform.dense.bias', 'cls.predictions.decoder.weight', 'cls.predictions.transform.LayerNorm.weight', 'cls.predictions.transform.dense.weight', 'cls.predictions.bias', 'cls.seq_relationship.weight', 'cls.predictions.transform.LayerNorm.bias']\n- This IS expected if you are initializing BertModel from the checkpoint of a model trained on another task or with another architecture (e.g. initializing a BertForSequenceClassification model from a BertForPreTraining model).\n- This IS NOT expected if you are initializing BertModel from the checkpoint of a model that you expect to be exactly identical (initializing a BertForSequenceClassification model from a BertForSequenceClassification model).\n100%|██████████| 890/890 [02:03<00:00,  7.23it/s]\n",
          "output_type": "stream"
        },
        {
          "name": "stdout",
          "text": "Epochs: 1 | Train Loss:  0.701                 | Train Accuracy:  0.457                 | Val Loss:  0.627                 | Val Accuracy:  0.523\n",
          "output_type": "stream"
        },
        {
          "name": "stderr",
          "text": "100%|██████████| 890/890 [02:02<00:00,  7.29it/s]\n",
          "output_type": "stream"
        },
        {
          "name": "stdout",
          "text": "Epochs: 2 | Train Loss:  0.548                 | Train Accuracy:  0.604                 | Val Loss:  0.509                 | Val Accuracy:  0.635\n",
          "output_type": "stream"
        },
        {
          "name": "stderr",
          "text": "100%|██████████| 890/890 [02:02<00:00,  7.28it/s]\n",
          "output_type": "stream"
        },
        {
          "name": "stdout",
          "text": "Epochs: 3 | Train Loss:  0.413                 | Train Accuracy:  0.741                 | Val Loss:  0.351                 | Val Accuracy:  0.788\n",
          "output_type": "stream"
        },
        {
          "name": "stderr",
          "text": "100%|██████████| 890/890 [02:02<00:00,  7.30it/s]\n",
          "output_type": "stream"
        },
        {
          "name": "stdout",
          "text": "Epochs: 4 | Train Loss:  0.226                 | Train Accuracy:  0.908                 | Val Loss:  0.140                 | Val Accuracy:  0.968\n",
          "output_type": "stream"
        },
        {
          "name": "stderr",
          "text": "100%|██████████| 890/890 [02:02<00:00,  7.29it/s]\n",
          "output_type": "stream"
        },
        {
          "name": "stdout",
          "text": "Epochs: 5 | Train Loss:  0.092                 | Train Accuracy:  0.987                 | Val Loss:  0.074                 | Val Accuracy:  0.977\n",
          "output_type": "stream"
        }
      ]
    },
    {
      "cell_type": "markdown",
      "source": [
        "## EValuate the model on test data\n",
        "Now that we trained the model on the training set, we are going to use the test data to evaluate the performance of the model on unseen data"
      ],
      "metadata": {
        "id": "Ik1HreEmc26l"
      }
    },
    {
      "cell_type": "code",
      "source": [
        "def evaluate(model,test_df):\n",
        "    test = Dataset(test_df)\n",
        "    test_dl = torch.utils.data.DataLoader(test,batch_size=2)\n",
        "\n",
        "    cuda_available = torch.cuda.is_available()\n",
        "\n",
        "    device = torch.device(\"cuda\" if torch.cuda.is_available() else 'cpu')\n",
        "    if cuda_available:\n",
        "        model = model.cuda()\n",
        "\n",
        "    total_acc = 0\n",
        "    for test_input , test_label in tqdm(test_dl):\n",
        "        test_label = test_label.to(device)\n",
        "        mask = test_input[\"attention_mask\"].to(device)\n",
        "        input_id = test_input[\"input_ids\"].squeeze(1).to(device)\n",
        "        output = model(input_id,mask)\n",
        "\n",
        "        acc = (output.argmax(dim=1) == test_label).sum().item()\n",
        "        total_acc +=acc\n",
        "\n",
        "    print(f\"Test Accuracy : {total_acc / len(test_df): .3f}\")\n",
        ""
      ],
      "metadata": {
        "execution": {
          "iopub.status.busy": "2024-01-07T10:12:32.877380Z",
          "iopub.execute_input": "2024-01-07T10:12:32.877621Z",
          "iopub.status.idle": "2024-01-07T10:12:32.886515Z",
          "shell.execute_reply.started": "2024-01-07T10:12:32.877590Z",
          "shell.execute_reply": "2024-01-07T10:12:32.885659Z"
        },
        "trusted": true,
        "id": "V7IV8_vQc26l"
      },
      "execution_count": null,
      "outputs": []
    },
    {
      "cell_type": "code",
      "source": [
        "evaluate(model,test_df=df_test)"
      ],
      "metadata": {
        "execution": {
          "iopub.status.busy": "2024-01-07T10:12:32.887698Z",
          "iopub.execute_input": "2024-01-07T10:12:32.887952Z",
          "iopub.status.idle": "2024-01-07T10:12:40.815379Z",
          "shell.execute_reply.started": "2024-01-07T10:12:32.887924Z",
          "shell.execute_reply": "2024-01-07T10:12:40.814613Z"
        },
        "trusted": true,
        "id": "DHZYdtBDc26l",
        "outputId": "cac6c08a-419d-4828-f112-d7c964eae59b"
      },
      "execution_count": null,
      "outputs": [
        {
          "name": "stderr",
          "text": "100%|██████████| 112/112 [00:04<00:00, 23.92it/s]",
          "output_type": "stream"
        },
        {
          "name": "stdout",
          "text": "Test Accuracy :  0.996\n",
          "output_type": "stream"
        },
        {
          "name": "stderr",
          "text": "\n",
          "output_type": "stream"
        }
      ]
    },
    {
      "cell_type": "markdown",
      "source": [
        "After running the code above, we got the accuracy of 0.991 from the test data."
      ],
      "metadata": {
        "id": "Prac9W8nc26m"
      }
    },
    {
      "cell_type": "markdown",
      "source": [
        "## Custom Tests"
      ],
      "metadata": {
        "id": "mOyUmBy_c26m"
      }
    },
    {
      "cell_type": "code",
      "source": [
        "device= torch.device(\"cuda\" if torch.cuda.is_available() else \"cpu\")\n",
        "inverse_labels = {v:k for k,v in labels.items()}"
      ],
      "metadata": {
        "execution": {
          "iopub.status.busy": "2024-01-07T10:12:40.817276Z",
          "iopub.execute_input": "2024-01-07T10:12:40.817564Z",
          "iopub.status.idle": "2024-01-07T10:12:40.823607Z",
          "shell.execute_reply.started": "2024-01-07T10:12:40.817525Z",
          "shell.execute_reply": "2024-01-07T10:12:40.822831Z"
        },
        "trusted": true,
        "id": "9dPOA2WZc26m"
      },
      "execution_count": null,
      "outputs": []
    },
    {
      "cell_type": "code",
      "source": [
        "def predict(device,model,sentence):\n",
        "    sentence = sentence\n",
        "    sentence_input = tokenizer(sentence, padding='max_length', max_length=512, truncation=True,return_tensors=\"pt\").to(device)\n",
        "    input_id = sentence_input[\"input_ids\"]\n",
        "    mask = sentence_input[\"attention_mask\"]\n",
        "    output = model(input_id,mask)\n",
        "    predicted_class_label = output.argmax(dim=1)\n",
        "    predicted_class = inverse_labels[predicted_class_label.item()]\n",
        "    print({predicted_class})"
      ],
      "metadata": {
        "execution": {
          "iopub.status.busy": "2024-01-07T10:12:40.824853Z",
          "iopub.execute_input": "2024-01-07T10:12:40.825135Z",
          "iopub.status.idle": "2024-01-07T10:12:40.835670Z",
          "shell.execute_reply.started": "2024-01-07T10:12:40.825095Z",
          "shell.execute_reply": "2024-01-07T10:12:40.834929Z"
        },
        "trusted": true,
        "id": "muJEZ9Hsc26m"
      },
      "execution_count": null,
      "outputs": []
    },
    {
      "cell_type": "code",
      "source": [
        "predict(device,model,\"a period of political and economic stability\")"
      ],
      "metadata": {
        "execution": {
          "iopub.status.busy": "2024-01-07T10:12:40.836840Z",
          "iopub.execute_input": "2024-01-07T10:12:40.837062Z",
          "iopub.status.idle": "2024-01-07T10:12:40.870087Z",
          "shell.execute_reply.started": "2024-01-07T10:12:40.837025Z",
          "shell.execute_reply": "2024-01-07T10:12:40.869232Z"
        },
        "trusted": true,
        "id": "yVUZD0FEc26n",
        "outputId": "47103af7-26c3-48ae-8b84-e6301411902c"
      },
      "execution_count": null,
      "outputs": [
        {
          "name": "stdout",
          "text": "The predicted class is : sport\n",
          "output_type": "stream"
        }
      ]
    },
    {
      "cell_type": "code",
      "source": [],
      "metadata": {
        "trusted": true,
        "id": "Ai7EukjLc26n"
      },
      "execution_count": null,
      "outputs": []
    },
    {
      "cell_type": "code",
      "source": [
        "predict(device,model,\"Manchester is the great football team in all the history\")"
      ],
      "metadata": {
        "execution": {
          "iopub.status.busy": "2024-01-07T10:12:40.871677Z",
          "iopub.execute_input": "2024-01-07T10:12:40.871934Z",
          "iopub.status.idle": "2024-01-07T10:12:40.900576Z",
          "shell.execute_reply.started": "2024-01-07T10:12:40.871904Z",
          "shell.execute_reply": "2024-01-07T10:12:40.899739Z"
        },
        "trusted": true,
        "id": "9KdE_rP0c26n",
        "outputId": "fba27b98-b2b5-4b79-aca6-f15a7862c123"
      },
      "execution_count": null,
      "outputs": [
        {
          "name": "stdout",
          "text": "The predicted class is : sport\n",
          "output_type": "stream"
        }
      ]
    },
    {
      "cell_type": "code",
      "source": [
        "predict(device,model,\"An individual or group can initiate, or obstruct, public policy in many political arenas\")"
      ],
      "metadata": {
        "execution": {
          "iopub.status.busy": "2024-01-07T10:12:40.902190Z",
          "iopub.execute_input": "2024-01-07T10:12:40.902433Z",
          "iopub.status.idle": "2024-01-07T10:12:40.930849Z",
          "shell.execute_reply.started": "2024-01-07T10:12:40.902401Z",
          "shell.execute_reply": "2024-01-07T10:12:40.930003Z"
        },
        "trusted": true,
        "id": "9zfSyI7Uc26n",
        "outputId": "e839dc08-21a5-49cf-e790-790b0b775175"
      },
      "execution_count": null,
      "outputs": [
        {
          "name": "stdout",
          "text": "The predicted class is : tech\n",
          "output_type": "stream"
        }
      ]
    }
  ]
}
